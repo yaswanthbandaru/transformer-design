{
 "cells": [
  {
   "cell_type": "code",
   "execution_count": 1,
   "metadata": {},
   "outputs": [],
   "source": [
    "import pandas as pd\n",
    "import numpy as np\n",
    "import math "
   ]
  },
  {
   "cell_type": "code",
   "execution_count": 2,
   "metadata": {},
   "outputs": [],
   "source": [
    "# Data\n",
    "lamination_data = pd.read_csv(\"https://raw.githubusercontent.com/yaswanthbandaru/transformer-design/main/DATA/EI-Laminations.csv\")\n",
    "swg_data = pd.read_csv(\"https://raw.githubusercontent.com/yaswanthbandaru/transformer-design/main/DATA/EMD%20-%20Sheet1.csv\")\n"
   ]
  },
  {
   "cell_type": "code",
   "execution_count": 3,
   "metadata": {},
   "outputs": [],
   "source": [
    "from autotransformer import AutoTransformer\n",
    "from strip import Strip"
   ]
  },
  {
   "cell_type": "code",
   "execution_count": 4,
   "metadata": {},
   "outputs": [],
   "source": [
    "# Initial variables for the calculation and validation\n",
    "Frequency = 47 # Hz\n",
    "Temperature_rise_goal = 30 # degree Celcius\n",
    "Output_power = 2000 # watts\n",
    "Efficiency = 95 # %\n",
    "Input_voltage = 115 # volts\n",
    "Ouptut_voltage = 115 # volts\n",
    "Regulation = 5 # in a scale of 100\n",
    "Bobbin_thickness = 1.5 \n",
    "K_f = 4.44\n",
    "K_u = 0.4\n",
    "B_ac = 1.6\n",
    "J = 235\n",
    "insulation_thickness = 0.2 #mm\n",
    "\n",
    "pi = np.pi #pi\n",
    "a = 1.68 # coefficients for core loss\n",
    "b = 1.86 # coefficients for core loss \n",
    "Rate_of_Cu = 950 # Rs / Kg\n",
    "Rate_of_Fe = 250 # Rs / Kg\n",
    "Resistivity_Cu =  1.68 * 10**-6 # ohm cm"
   ]
  },
  {
   "cell_type": "markdown",
   "metadata": {},
   "source": [
    "## Algorithm"
   ]
  },
  {
   "cell_type": "code",
   "execution_count": 5,
   "metadata": {},
   "outputs": [
    {
     "data": {
      "text/plain": [
       "'\\nArea = s * t * ww * wl\\n\\ns, t, ww, wl muliples of 5\\n\\ns * t * ww * wl  <= Area_product\\n\\n50 < s < 400\\n50 < t < 250\\n20 < ww < 400\\n50 < wl < 700\\n\\ns = [50, 55, 60 ... 445]\\nt = [50, 55, .. ]\\n'"
      ]
     },
     "execution_count": 5,
     "metadata": {},
     "output_type": "execute_result"
    }
   ],
   "source": [
    "'''\n",
    "Area = s * t * ww * wl\n",
    "\n",
    "s, t, ww, wl muliples of 5\n",
    "\n",
    "s * t * ww * wl  <= Area_product\n",
    "\n",
    "50 < s < 400\n",
    "50 < t < 250\n",
    "20 < ww < 400\n",
    "50 < wl < 700\n",
    "\n",
    "s = [50, 55, 60 ... 445]\n",
    "t = [50, 55, .. ]\n",
    "'''\n",
    "\n"
   ]
  },
  {
   "cell_type": "code",
   "execution_count": 6,
   "metadata": {},
   "outputs": [],
   "source": [
    "# for s in range(50,  400, 5):\n",
    "#     for t in range(50, 250, 5):\n",
    "#         for ww in range(20, 400, 5):\n",
    "#             for wl in range(50, 700, 5):\n",
    "#                 print(f\"s * t * ww * wl = {s} * {t} * {ww} * {wl} = {s * t * ww * wl}\")\n",
    "                "
   ]
  },
  {
   "cell_type": "markdown",
   "metadata": {},
   "source": [
    "## Strip function part"
   ]
  },
  {
   "cell_type": "code",
   "execution_count": 7,
   "metadata": {},
   "outputs": [],
   "source": [
    "from strip_test import *"
   ]
  },
  {
   "cell_type": "code",
   "execution_count": 8,
   "metadata": {},
   "outputs": [
    {
     "name": "stdout",
     "output_type": "stream",
     "text": [
      "Apparent power : 163333.33333333334\n",
      "Area product : 52179.839413881964\n",
      "Input current : 347.82608695652175\n",
      "a_wp : 115.94202898550725\n",
      "a_ws : 115.94202898550725\n",
      "primary swg : swg     SWG    mm CD Min mm CD Max mm  Normal Conductor Area mm²  \\\n",
      "0  10.0  3.24     3.218     3.284                    8.24479   \n",
      "\n",
      "   Conductor Weight for 1000m/Kg  CR Normal  CR Max    CR Min  FC Min mm  \\\n",
      "0                         73.296    0.00203  0.00209  0.00198        NaN   \n",
      "\n",
      "   FC Max mm  Medium Covering Min  Medium Covering Max  \n",
      "0        NaN                0.086                 3.38  \n",
      "secondary swg : swg     SWG    mm CD Min mm CD Max mm  Normal Conductor Area mm²  \\\n",
      "0  10.0  3.24     3.218     3.284                    8.24479   \n",
      "\n",
      "   Conductor Weight for 1000m/Kg  CR Normal  CR Max    CR Min  FC Min mm  \\\n",
      "0                         73.296    0.00203  0.00209  0.00198        NaN   \n",
      "\n",
      "   FC Max mm  Medium Covering Min  Medium Covering Max  \n",
      "0        NaN                0.086                 3.38  \n"
     ]
    }
   ],
   "source": [
    "strip = Strip(\n",
    "    frequency= 47 ,\n",
    "    input_voltage= 230,\n",
    "    output_voltage=230,\n",
    "    output_power= 80000,\n",
    "    efficiency= 96,\n",
    "    regulation= 2,\n",
    "    flux_density= 1.25,\n",
    "    current_density= 300\n",
    "    )"
   ]
  },
  {
   "cell_type": "code",
   "execution_count": 9,
   "metadata": {},
   "outputs": [
    {
     "data": {
      "text/plain": [
       "{'Area product': 162400000,\n",
       " 'Stack mm': 160,\n",
       " 'Tongue mm': 145,\n",
       " 'wl mm': 200,\n",
       " 'ww mm': 35,\n",
       " 'Cu surface area': 71536.0,\n",
       " 'Core surface area': 779300,\n",
       " 'Temperature rise Cu': 106.5373685429474,\n",
       " 'Temperature rise Fe': 0.2071997209526786,\n",
       " 'Cost': 36241.03564416}"
      ]
     },
     "execution_count": 9,
     "metadata": {},
     "output_type": "execute_result"
    }
   ],
   "source": [
    "strip.total_cost(\n",
    "    stack= 160,\n",
    "    tongue= 145,\n",
    "    winding_width= 35,\n",
    "    winding_length= 200)"
   ]
  },
  {
   "cell_type": "code",
   "execution_count": null,
   "metadata": {},
   "outputs": [],
   "source": []
  },
  {
   "cell_type": "code",
   "execution_count": null,
   "metadata": {},
   "outputs": [],
   "source": []
  },
  {
   "cell_type": "code",
   "execution_count": 10,
   "metadata": {},
   "outputs": [],
   "source": [
    "import numpy as np \n",
    "from scipy.optimize import minimize "
   ]
  },
  {
   "cell_type": "code",
   "execution_count": 11,
   "metadata": {},
   "outputs": [
    {
     "data": {
      "text/plain": [
       "163333.33333333334"
      ]
     },
     "execution_count": 11,
     "metadata": {},
     "output_type": "execute_result"
    }
   ],
   "source": [
    "strip.apparent_power"
   ]
  },
  {
   "cell_type": "code",
   "execution_count": 12,
   "metadata": {},
   "outputs": [
    {
     "data": {
      "text/plain": [
       "52179.839413881964"
      ]
     },
     "execution_count": 12,
     "metadata": {},
     "output_type": "execute_result"
    }
   ],
   "source": [
    "strip.area_product"
   ]
  },
  {
   "cell_type": "code",
   "execution_count": 13,
   "metadata": {},
   "outputs": [],
   "source": [
    "def objective(x):\n",
    "    x1 = x[0] # stack\n",
    "    x2 = x[1] # tongue\n",
    "    x3 = x[2] # ww\n",
    "    x4 = x[3] # wl\n",
    "    return strip.cost(x1,x2,x3,x4)\n",
    "\n",
    "def equality_constraint(x):\n",
    "    return x[0]*x[1]*x[2]*x[3]-strip.area_product \n",
    "\n",
    "def constraint1(x):\n",
    "    return x[0] - 50.0\n",
    "\n",
    "def constraint2(x):\n",
    "    return x[1] - 50.0\n",
    "\n",
    "def constraint3(x):\n",
    "    return x[2] - 20.0\n",
    "\n",
    "def constraint4(x):\n",
    "    return x[3] - 50.0 "
   ]
  },
  {
   "cell_type": "code",
   "execution_count": 14,
   "metadata": {},
   "outputs": [
    {
     "data": {
      "text/plain": [
       "array([0., 0., 0., 0.])"
      ]
     },
     "execution_count": 14,
     "metadata": {},
     "output_type": "execute_result"
    }
   ],
   "source": [
    "np.zeros(4)"
   ]
  },
  {
   "cell_type": "code",
   "execution_count": 15,
   "metadata": {},
   "outputs": [
    {
     "name": "stdout",
     "output_type": "stream",
     "text": [
      "4000\n"
     ]
    }
   ],
   "source": [
    "# x0 = [50, 2, 10]\n",
    "x0 = [50, 50, 30, 50]\n",
    "\n",
    "print(objective(x0))\n",
    "# print(equality_constraint(x0))"
   ]
  },
  {
   "cell_type": "code",
   "execution_count": 16,
   "metadata": {},
   "outputs": [],
   "source": [
    "b1 = (50.0, 400.0)\n",
    "b2 = (50.0, 250.0)\n",
    "b3 = (20.0, 400.0)\n",
    "b4 = (50.0, 700.0)\n",
    "bnds = (b1, b2, b3, b4) # bounds \n",
    "con1 = { 'type' : 'eq', 'fun': equality_constraint}\n",
    "cons = [con1]\n"
   ]
  },
  {
   "cell_type": "code",
   "execution_count": 17,
   "metadata": {},
   "outputs": [],
   "source": [
    "sol = minimize(objective, x0, method='SLSQP',bounds=bnds, constraints=cons)"
   ]
  },
  {
   "cell_type": "code",
   "execution_count": 18,
   "metadata": {},
   "outputs": [
    {
     "name": "stdout",
     "output_type": "stream",
     "text": [
      "50.0\n",
      "50.0\n",
      "20.000000000013934\n",
      "50.0\n"
     ]
    }
   ],
   "source": [
    "for i in range(4):\n",
    "    print(sol.x[i])"
   ]
  },
  {
   "cell_type": "code",
   "execution_count": null,
   "metadata": {},
   "outputs": [],
   "source": []
  }
 ],
 "metadata": {
  "interpreter": {
   "hash": "31f2aee4e71d21fbe5cf8b01ff0e069b9275f58929596ceb00d14d90e3e16cd6"
  },
  "kernelspec": {
   "display_name": "Python 3 (ipykernel)",
   "language": "python",
   "name": "python3"
  },
  "language_info": {
   "codemirror_mode": {
    "name": "ipython",
    "version": 3
   },
   "file_extension": ".py",
   "mimetype": "text/x-python",
   "name": "python",
   "nbconvert_exporter": "python",
   "pygments_lexer": "ipython3",
   "version": "3.8.10"
  }
 },
 "nbformat": 4,
 "nbformat_minor": 4
}
