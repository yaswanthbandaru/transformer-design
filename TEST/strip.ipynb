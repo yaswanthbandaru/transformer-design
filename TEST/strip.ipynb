{
 "cells": [
  {
   "cell_type": "code",
   "execution_count": 21,
   "metadata": {},
   "outputs": [],
   "source": [
    "import pandas as pd\n",
    "import numpy as np\n",
    "import math "
   ]
  },
  {
   "cell_type": "code",
   "execution_count": 22,
   "metadata": {},
   "outputs": [],
   "source": [
    "# Data\n",
    "lamination_data = pd.read_csv(\"https://raw.githubusercontent.com/yaswanthbandaru/transformer-design/main/DATA/EI-Laminations.csv\")\n",
    "swg_data = pd.read_csv(\"https://raw.githubusercontent.com/yaswanthbandaru/transformer-design/main/DATA/EMD%20-%20Sheet1.csv\")\n"
   ]
  },
  {
   "cell_type": "code",
   "execution_count": 23,
   "metadata": {},
   "outputs": [],
   "source": [
    "from autotransformer import AutoTransformer\n",
    "from strip import Strip"
   ]
  },
  {
   "cell_type": "code",
   "execution_count": 24,
   "metadata": {},
   "outputs": [],
   "source": [
    "# Initial variables for the calculation and validation\n",
    "Frequency = 47 # Hz\n",
    "Temperature_rise_goal = 30 # degree Celcius\n",
    "Output_power = 250 # watts\n",
    "Efficiency = 95 # %\n",
    "Input_voltage = 115 # volts\n",
    "Ouptut_voltage = 115 # volts\n",
    "Regulation = 5 # in a scale of 100\n",
    "Bobbin_thickness = 1.5 \n",
    "K_f = 4.44\n",
    "K_u = 0.4\n",
    "B_ac = 1.6\n",
    "J = 250\n",
    "insulation_thickness = 0.2 #mm\n",
    "\n",
    "pi = np.pi #pi\n",
    "a = 1.68 # coefficients for core loss\n",
    "b = 1.86 # coefficients for core loss \n",
    "Rate_of_Cu = 950 # Rs / Kg\n",
    "Rate_of_Fe = 250 # Rs / Kg\n",
    "Resistivity_Cu =  1.68 * 10**-6 # ohm cm"
   ]
  },
  {
   "cell_type": "markdown",
   "metadata": {},
   "source": [
    "## Algorithm"
   ]
  },
  {
   "cell_type": "code",
   "execution_count": 25,
   "metadata": {},
   "outputs": [
    {
     "data": {
      "text/plain": [
       "'\\nArea = s * t * ww * wl\\n\\ns, t, ww, wl muliples of 5\\n\\ns * t * ww * wl  <= Area_product\\n\\n50 < s < 400\\n50 < t < 250\\n20 < ww < 400\\n50 < wl < 700\\n\\ns = [50, 55, 60 ... 445]\\nt = [50, 55, .. ]\\n'"
      ]
     },
     "execution_count": 25,
     "metadata": {},
     "output_type": "execute_result"
    }
   ],
   "source": [
    "'''\n",
    "Area = s * t * ww * wl\n",
    "\n",
    "s, t, ww, wl muliples of 5\n",
    "\n",
    "s * t * ww * wl  <= Area_product\n",
    "\n",
    "50 < s < 400\n",
    "50 < t < 250\n",
    "20 < ww < 400\n",
    "50 < wl < 700\n",
    "\n",
    "s = [50, 55, 60 ... 445]\n",
    "t = [50, 55, .. ]\n",
    "'''\n",
    "\n"
   ]
  },
  {
   "cell_type": "code",
   "execution_count": 26,
   "metadata": {},
   "outputs": [],
   "source": [
    "# for s in range(50,  400, 5):\n",
    "#     for t in range(50, 250, 5):\n",
    "#         for ww in range(20, 400, 5):\n",
    "#             for wl in range(50, 700, 5):\n",
    "#                 print(f\"s * t * ww * wl = {s} * {t} * {ww} * {wl} = {s * t * ww * wl}\")\n",
    "                "
   ]
  },
  {
   "cell_type": "markdown",
   "metadata": {},
   "source": [
    "## Strip function part"
   ]
  },
  {
   "cell_type": "code",
   "execution_count": 27,
   "metadata": {},
   "outputs": [],
   "source": [
    "spt = Strip(Frequency, Input_voltage, Ouptut_voltage, Output_power, Efficiency, Regulation, B_ac, J)\n"
   ]
  },
  {
   "cell_type": "code",
   "execution_count": 28,
   "metadata": {},
   "outputs": [
    {
     "name": "stdout",
     "output_type": "stream",
     "text": [
      "['__class__', '__delattr__', '__dict__', '__dir__', '__doc__', '__eq__', '__format__', '__ge__', '__getattribute__', '__gt__', '__hash__', '__init__', '__init_subclass__', '__le__', '__lt__', '__module__', '__ne__', '__new__', '__reduce__', '__reduce_ex__', '__repr__', '__setattr__', '__sizeof__', '__str__', '__subclasshook__', '__weakref__', 'a', 'a_wp', 'actual_a_wp', 'apparent_power', 'area_product', 'b', 'bare_area', 'built_primary', 'built_secondary', 'calculate_stack', 'conductor_loss', 'conductor_surface_area', 'core_area', 'core_loss', 'core_loss_factor', 'core_surface_area', 'cost', 'current_density', 'diameter_of_primary_wire', 'efficiency', 'find_swg', 'flux_density', 'frequency', 'input_current', 'input_voltage', 'insulation_thickness', 'k_f', 'k_u', 'lamination_data', 'leakage_inductance', 'length', 'mtl_primary', 'mtl_secondary', 'number_of_layers', 'output_power', 'output_voltage', 'pi', 'primary_turns', 'psi', 'regulation', 'required_swg_primary', 'resistance', 'rounding_stack_as_multiple_of_five', 'secondary_turns', 'swg_data', 'temperature_rise', 'total_built', 'total_copper_loss', 'total_loss', 'total_surface_area', 'turns_per_layer', 'volume_of_core', 'weight_of_core']\n"
     ]
    }
   ],
   "source": [
    "print(dir(spt))"
   ]
  },
  {
   "cell_type": "code",
   "execution_count": 32,
   "metadata": {},
   "outputs": [
    {
     "data": {
      "text/plain": [
       "'<strip.Strip object at 0x7ff9b4277b80>'"
      ]
     },
     "execution_count": 32,
     "metadata": {},
     "output_type": "execute_result"
    }
   ],
   "source": []
  },
  {
   "cell_type": "code",
   "execution_count": null,
   "metadata": {},
   "outputs": [],
   "source": []
  }
 ],
 "metadata": {
  "interpreter": {
   "hash": "31f2aee4e71d21fbe5cf8b01ff0e069b9275f58929596ceb00d14d90e3e16cd6"
  },
  "kernelspec": {
   "display_name": "Python 3.8.10 64-bit",
   "language": "python",
   "name": "python3"
  },
  "language_info": {
   "codemirror_mode": {
    "name": "ipython",
    "version": 3
   },
   "file_extension": ".py",
   "mimetype": "text/x-python",
   "name": "python",
   "nbconvert_exporter": "python",
   "pygments_lexer": "ipython3",
   "version": "3.8.10"
  },
  "orig_nbformat": 4
 },
 "nbformat": 4,
 "nbformat_minor": 2
}
