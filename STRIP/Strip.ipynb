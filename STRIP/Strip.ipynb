{
 "cells": [
  {
   "cell_type": "code",
   "execution_count": 1,
   "metadata": {},
   "outputs": [],
   "source": [
    "import pandas as pd\n",
    "import numpy as np\n",
    "import math\n",
    "from strip_test import Strip"
   ]
  },
  {
   "cell_type": "code",
   "execution_count": 2,
   "metadata": {},
   "outputs": [],
   "source": [
    "strip = Strip(\n",
    "    frequency= 47 ,\n",
    "    input_voltage= 115,\n",
    "    output_voltage=115,\n",
    "    output_power=2000,\n",
    "    efficiency= 95,\n",
    "    regulation= 5,\n",
    "    flux_density= 1.6,\n",
    "    current_density= 235\n",
    "    )"
   ]
  },
  {
   "cell_type": "code",
   "execution_count": 3,
   "metadata": {},
   "outputs": [
    {
     "data": {
      "text/html": [
       "<div>\n",
       "<style scoped>\n",
       "    .dataframe tbody tr th:only-of-type {\n",
       "        vertical-align: middle;\n",
       "    }\n",
       "\n",
       "    .dataframe tbody tr th {\n",
       "        vertical-align: top;\n",
       "    }\n",
       "\n",
       "    .dataframe thead th {\n",
       "        text-align: right;\n",
       "    }\n",
       "</style>\n",
       "<table border=\"1\" class=\"dataframe\">\n",
       "  <thead>\n",
       "    <tr style=\"text-align: right;\">\n",
       "      <th></th>\n",
       "      <th>0</th>\n",
       "    </tr>\n",
       "  </thead>\n",
       "  <tbody>\n",
       "    <tr>\n",
       "      <th>0</th>\n",
       "      <td>None</td>\n",
       "    </tr>\n",
       "    <tr>\n",
       "      <th>1</th>\n",
       "      <td>None</td>\n",
       "    </tr>\n",
       "    <tr>\n",
       "      <th>2</th>\n",
       "      <td>None</td>\n",
       "    </tr>\n",
       "    <tr>\n",
       "      <th>3</th>\n",
       "      <td>None</td>\n",
       "    </tr>\n",
       "    <tr>\n",
       "      <th>4</th>\n",
       "      <td>None</td>\n",
       "    </tr>\n",
       "    <tr>\n",
       "      <th>...</th>\n",
       "      <td>...</td>\n",
       "    </tr>\n",
       "    <tr>\n",
       "      <th>386</th>\n",
       "      <td>{'Area product': 15121890.0, 'Stack mm': 10.0,...</td>\n",
       "    </tr>\n",
       "    <tr>\n",
       "      <th>387</th>\n",
       "      <td>{'Area product': 15121890.0, 'Stack mm': 10.0,...</td>\n",
       "    </tr>\n",
       "    <tr>\n",
       "      <th>388</th>\n",
       "      <td>{'Area product': 15121890.0, 'Stack mm': 10.0,...</td>\n",
       "    </tr>\n",
       "    <tr>\n",
       "      <th>389</th>\n",
       "      <td>{'Area product': 15121890.0, 'Stack mm': 10.0,...</td>\n",
       "    </tr>\n",
       "    <tr>\n",
       "      <th>390</th>\n",
       "      <td>{'Area product': 15121890.0, 'Stack mm': 10.0,...</td>\n",
       "    </tr>\n",
       "  </tbody>\n",
       "</table>\n",
       "<p>391 rows × 1 columns</p>\n",
       "</div>"
      ],
      "text/plain": [
       "                                                     0\n",
       "0                                                 None\n",
       "1                                                 None\n",
       "2                                                 None\n",
       "3                                                 None\n",
       "4                                                 None\n",
       "..                                                 ...\n",
       "386  {'Area product': 15121890.0, 'Stack mm': 10.0,...\n",
       "387  {'Area product': 15121890.0, 'Stack mm': 10.0,...\n",
       "388  {'Area product': 15121890.0, 'Stack mm': 10.0,...\n",
       "389  {'Area product': 15121890.0, 'Stack mm': 10.0,...\n",
       "390  {'Area product': 15121890.0, 'Stack mm': 10.0,...\n",
       "\n",
       "[391 rows x 1 columns]"
      ]
     },
     "execution_count": 3,
     "metadata": {},
     "output_type": "execute_result"
    }
   ],
   "source": [
    "lamination_data = strip.lamination_data\n",
    "stack_data = []\n",
    "for lamination in lamination_data['Type']:\n",
    "    selected_lamination = lamination_data[lamination_data['Type'] == lamination]\n",
    "    for x in range(60, 141, 5):\n",
    "        tongue = selected_lamination['Tongue'].max()  # mm\n",
    "        wl = selected_lamination['Winding-length'].max() # mm       \n",
    "        ww = selected_lamination['Winding-width'].max() # mm \n",
    "        present_area_product = x * 0.01 * strip.area_product\n",
    "        stack = strip.calculate_stack(present_area_product, selected_lamination['K-ratio'].max())\n",
    "\n",
    "        # if (stack < 5 * tongue):\n",
    "        stack = strip.rounding_stack_as_multiple_of_five(stack)\n",
    "        results = strip.total_cost(stack, tongue, ww, wl)\n",
    "        stack_data.append(results)\n",
    "\n",
    "\n",
    "df = pd.DataFrame(stack_data)\n",
    "df         "
   ]
  },
  {
   "cell_type": "code",
   "execution_count": 4,
   "metadata": {},
   "outputs": [
    {
     "data": {
      "text/html": [
       "<div>\n",
       "<style scoped>\n",
       "    .dataframe tbody tr th:only-of-type {\n",
       "        vertical-align: middle;\n",
       "    }\n",
       "\n",
       "    .dataframe tbody tr th {\n",
       "        vertical-align: top;\n",
       "    }\n",
       "\n",
       "    .dataframe thead th {\n",
       "        text-align: right;\n",
       "    }\n",
       "</style>\n",
       "<table border=\"1\" class=\"dataframe\">\n",
       "  <thead>\n",
       "    <tr style=\"text-align: right;\">\n",
       "      <th></th>\n",
       "      <th>0</th>\n",
       "    </tr>\n",
       "  </thead>\n",
       "  <tbody>\n",
       "    <tr>\n",
       "      <th>147</th>\n",
       "      <td>{'Area product': 15038992.85031, 'Stack mm': 1...</td>\n",
       "    </tr>\n",
       "  </tbody>\n",
       "</table>\n",
       "</div>"
      ],
      "text/plain": [
       "                                                     0\n",
       "147  {'Area product': 15038992.85031, 'Stack mm': 1..."
      ]
     },
     "execution_count": 4,
     "metadata": {},
     "output_type": "execute_result"
    }
   ],
   "source": [
    "sample_data = df[147:148]\n",
    "\n",
    "sample = pd.DataFrame(sample_data)\n",
    "sample"
   ]
  },
  {
   "cell_type": "code",
   "execution_count": null,
   "metadata": {},
   "outputs": [],
   "source": []
  }
 ],
 "metadata": {
  "interpreter": {
   "hash": "31f2aee4e71d21fbe5cf8b01ff0e069b9275f58929596ceb00d14d90e3e16cd6"
  },
  "kernelspec": {
   "display_name": "Python 3 (ipykernel)",
   "language": "python",
   "name": "python3"
  },
  "language_info": {
   "codemirror_mode": {
    "name": "ipython",
    "version": 3
   },
   "file_extension": ".py",
   "mimetype": "text/x-python",
   "name": "python",
   "nbconvert_exporter": "python",
   "pygments_lexer": "ipython3",
   "version": "3.8.10"
  }
 },
 "nbformat": 4,
 "nbformat_minor": 4
}
