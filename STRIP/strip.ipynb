{
 "cells": [
  {
   "cell_type": "code",
   "execution_count": 1,
   "metadata": {},
   "outputs": [],
   "source": [
    "import pandas as pd\n",
    "import numpy as np\n",
    "import math "
   ]
  },
  {
   "cell_type": "markdown",
   "metadata": {},
   "source": [
    "## Database"
   ]
  },
  {
   "cell_type": "code",
   "execution_count": 2,
   "metadata": {},
   "outputs": [],
   "source": [
    "# Data\n",
    "lamination_data = pd.read_csv(\"https://raw.githubusercontent.com/yaswanthbandaru/transformer-design/main/DATA/EI-Laminations.csv\")\n",
    "swg_data = pd.read_csv(\"https://raw.githubusercontent.com/yaswanthbandaru/transformer-design/main/DATA/EMD%20-%20Sheet1.csv\")\n"
   ]
  },
  {
   "cell_type": "code",
   "execution_count": 3,
   "metadata": {},
   "outputs": [],
   "source": [
    "from autotransformer import AutoTransformer\n",
    "from strip import Strip"
   ]
  },
  {
   "cell_type": "code",
   "execution_count": 4,
   "metadata": {},
   "outputs": [],
   "source": [
    "# Initial variables for the calculation and validation\n",
    "Frequency = 47 # Hz\n",
    "Temperature_rise_goal = 30 # degree Celcius\n",
    "Output_power = 250 # watts\n",
    "Efficiency = 95 # %\n",
    "Input_voltage = 115 # volts\n",
    "Ouptut_voltage = 115 # volts\n",
    "Regulation = 5 # in a scale of 100\n",
    "Bobbin_thickness = 1.5 \n",
    "K_f = 4.44\n",
    "K_u = 0.4\n",
    "B_ac = 1.6\n",
    "J = 250\n",
    "insulation_thickness = 0.2 #mm\n",
    "\n",
    "pi = np.pi #pi\n",
    "a = 1.68 # coefficients for core loss\n",
    "b = 1.86 # coefficients for core loss \n",
    "Rate_of_Cu = 950 # Rs / Kg\n",
    "Rate_of_Fe = 250 # Rs / Kg\n",
    "Resistivity_Cu =  1.68 * 10**-6 # ohm cm"
   ]
  },
  {
   "cell_type": "markdown",
   "metadata": {},
   "source": [
    "## Algorithm"
   ]
  },
  {
   "cell_type": "code",
   "execution_count": 5,
   "metadata": {},
   "outputs": [
    {
     "data": {
      "text/plain": [
       "'\\nArea = s * t * ww * wl\\n\\ns, t, ww, wl muliples of 5\\n\\ns * t * ww * wl  <= Area_product\\n\\n50 < s < 400\\n50 < t < 250\\n20 < ww < 400\\n50 < wl < 700\\n\\ns = [50, 55, 60 ... 445]\\nt = [50, 55, .. ]\\n'"
      ]
     },
     "execution_count": 5,
     "metadata": {},
     "output_type": "execute_result"
    }
   ],
   "source": [
    "'''\n",
    "Area = s * t * ww * wl\n",
    "\n",
    "s, t, ww, wl muliples of 5\n",
    "\n",
    "s * t * ww * wl  <= Area_product\n",
    "\n",
    "50 < s < 400\n",
    "50 < t < 250\n",
    "20 < ww < 400\n",
    "50 < wl < 700\n",
    "\n",
    "s = [50, 55, 60 ... 445]\n",
    "t = [50, 55, .. ]\n",
    "'''\n",
    "\n"
   ]
  },
  {
   "cell_type": "code",
   "execution_count": 6,
   "metadata": {},
   "outputs": [],
   "source": [
    "# for s in range(50,  400, 5):\n",
    "#     for t in range(50, 250, 5):\n",
    "#         for ww in range(20, 400, 5):\n",
    "#             for wl in range(50, 700, 5):\n",
    "#                 print(f\"s * t * ww * wl = {s} * {t} * {ww} * {wl} = {s * t * ww * wl}\")\n",
    "                "
   ]
  },
  {
   "cell_type": "markdown",
   "metadata": {},
   "source": [
    "## Strip function part"
   ]
  },
  {
   "cell_type": "code",
   "execution_count": 7,
   "metadata": {},
   "outputs": [],
   "source": [
    "strip = Strip(Frequency, Input_voltage, Ouptut_voltage, Output_power,Efficiency, Regulation, B_ac,J )"
   ]
  },
  {
   "cell_type": "code",
   "execution_count": 8,
   "metadata": {},
   "outputs": [
    {
     "data": {
      "text/html": [
       "<div>\n",
       "<style scoped>\n",
       "    .dataframe tbody tr th:only-of-type {\n",
       "        vertical-align: middle;\n",
       "    }\n",
       "\n",
       "    .dataframe tbody tr th {\n",
       "        vertical-align: top;\n",
       "    }\n",
       "\n",
       "    .dataframe thead th {\n",
       "        text-align: right;\n",
       "    }\n",
       "</style>\n",
       "<table border=\"1\" class=\"dataframe\">\n",
       "  <thead>\n",
       "    <tr style=\"text-align: right;\">\n",
       "      <th></th>\n",
       "      <th>0</th>\n",
       "    </tr>\n",
       "  </thead>\n",
       "  <tbody>\n",
       "    <tr>\n",
       "      <th>0</th>\n",
       "      <td>None</td>\n",
       "    </tr>\n",
       "    <tr>\n",
       "      <th>1</th>\n",
       "      <td>None</td>\n",
       "    </tr>\n",
       "    <tr>\n",
       "      <th>2</th>\n",
       "      <td>None</td>\n",
       "    </tr>\n",
       "    <tr>\n",
       "      <th>3</th>\n",
       "      <td>None</td>\n",
       "    </tr>\n",
       "    <tr>\n",
       "      <th>4</th>\n",
       "      <td>None</td>\n",
       "    </tr>\n",
       "    <tr>\n",
       "      <th>...</th>\n",
       "      <td>...</td>\n",
       "    </tr>\n",
       "    <tr>\n",
       "      <th>386</th>\n",
       "      <td>None</td>\n",
       "    </tr>\n",
       "    <tr>\n",
       "      <th>387</th>\n",
       "      <td>None</td>\n",
       "    </tr>\n",
       "    <tr>\n",
       "      <th>388</th>\n",
       "      <td>None</td>\n",
       "    </tr>\n",
       "    <tr>\n",
       "      <th>389</th>\n",
       "      <td>None</td>\n",
       "    </tr>\n",
       "    <tr>\n",
       "      <th>390</th>\n",
       "      <td>None</td>\n",
       "    </tr>\n",
       "  </tbody>\n",
       "</table>\n",
       "<p>391 rows × 1 columns</p>\n",
       "</div>"
      ],
      "text/plain": [
       "        0\n",
       "0    None\n",
       "1    None\n",
       "2    None\n",
       "3    None\n",
       "4    None\n",
       "..    ...\n",
       "386  None\n",
       "387  None\n",
       "388  None\n",
       "389  None\n",
       "390  None\n",
       "\n",
       "[391 rows x 1 columns]"
      ]
     },
     "execution_count": 8,
     "metadata": {},
     "output_type": "execute_result"
    }
   ],
   "source": [
    "lamination_data = strip.lamination_data\n",
    "stack_data = []\n",
    "for lamination in lamination_data['Type']:\n",
    "    selected_lamination = lamination_data[lamination_data['Type'] == lamination]\n",
    "    for x in range(60, 141, 5):\n",
    "        tongue = selected_lamination['Tongue'].max()  # mm\n",
    "        wl = selected_lamination['Winding-length'].max() # mm       \n",
    "        ww = selected_lamination['Winding-width'].max() # mm \n",
    "        present_area_product = x * 0.01 * strip.area_product\n",
    "        stack = strip.calculate_stack(present_area_product, selected_lamination['K-ratio'].max())\n",
    "\n",
    "        # if (stack < 5 * tongue):\n",
    "        stack = strip.rounding_stack_as_multiple_of_five(stack)\n",
    "        results = strip.total_cost(stack, tongue, ww, wl)\n",
    "        stack_data.append(results)\n",
    "\n",
    "\n",
    "df = pd.DataFrame(stack_data)\n",
    "df         "
   ]
  }
 ],
 "metadata": {
  "interpreter": {
   "hash": "31f2aee4e71d21fbe5cf8b01ff0e069b9275f58929596ceb00d14d90e3e16cd6"
  },
  "kernelspec": {
   "display_name": "Python 3.8.10 64-bit",
   "language": "python",
   "name": "python3"
  },
  "language_info": {
   "codemirror_mode": {
    "name": "ipython",
    "version": 3
   },
   "file_extension": ".py",
   "mimetype": "text/x-python",
   "name": "python",
   "nbconvert_exporter": "python",
   "pygments_lexer": "ipython3",
   "version": "3.8.10"
  },
  "orig_nbformat": 4
 },
 "nbformat": 4,
 "nbformat_minor": 2
}
